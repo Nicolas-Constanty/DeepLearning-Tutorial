{
 "cells": [
  {
   "cell_type": "markdown",
   "metadata": {},
   "source": [
    "# Deep leaning tutoriel\n",
    "\n",
    "## Introduction\n",
    "\n",
    "This tutoriel asume that you know how to use python language and you know how to install dependencies for the following sections.\n",
    " \n",
    " If you don't want to learn how **deep learning** works under the hood and you just want to learn how to use it, you can jump directly to the sections **4** to **5** \n",
    "## Definitions\n",
    "\n",
    "**Machine learning** is about defining the outcome and letting your algorithm learn the step to get here.\n",
    "\n",
    "There is tree differents learning styles :\n",
    " * Supervised\n",
    " * Unsupervised\n",
    " * Reinforcement\n",
    "\n",
    "**Deep Learning** is a subcategory of machine learning, it derives more precisely of neural network. The deeplearning consists to combine succesive layers of neural network.\n",
    " \n",
    "### 1. [Linear Regression](https://plot.ly/~nicolasconstanty/10)\n",
    "### 2. [The Perceptron](https://github.com/Claudiooo/DeepLearningLearning/blob/Group2/Jupyter/Nicolas/The%20Perceptron/Perceptron.ipynb)\n",
    "### 3. [Simple Neural Network *aka Multilayered Perceptron*](https://github.com/Claudiooo/DeepLearningLearning/blob/Group2/Jupyter/Nicolas/Multilayered%20Perceptron/Simple%20Neural%20Network.ipynb)\n",
    "### 4. [Deeplearning with Tensorflow](https://github.com/Claudiooo/DeepLearningLearning/blob/Group2/Jupyter/Nicolas/Deep%20learning%20with%20tensorflow/Deep%20learning%20with%20tensorflow.ipynb)\n",
    "\n",
    "### 5. [Deeplearning with Keras](https://github.com/Claudiooo/DeepLearningLearning/blob/Group2/Jupyter/Nicolas/Deep%20learning%20with%20keras/Deep%20learning%20with%20Keras.ipynb)"
   ]
  },
  {
   "cell_type": "code",
   "execution_count": null,
   "metadata": {},
   "outputs": [],
   "source": []
  }
 ],
 "metadata": {
  "kernelspec": {
   "display_name": "Python 3",
   "language": "python",
   "name": "python3"
  },
  "language_info": {
   "codemirror_mode": {
    "name": "ipython",
    "version": 3
   },
   "file_extension": ".py",
   "mimetype": "text/x-python",
   "name": "python",
   "nbconvert_exporter": "python",
   "pygments_lexer": "ipython3",
   "version": "3.5.2"
  }
 },
 "nbformat": 4,
 "nbformat_minor": 2
}
