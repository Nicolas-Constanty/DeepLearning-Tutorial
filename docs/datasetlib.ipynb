{
 "cells": [
  {
   "cell_type": "markdown",
   "metadata": {},
   "source": [
    "# Dataset library"
   ]
  },
  {
   "cell_type": "code",
   "execution_count": 1,
   "metadata": {},
   "outputs": [],
   "source": [
    "import glob\n",
    "import os\n",
    "import random\n",
    "import numpy as np\n",
    "import struct\n",
    "import math\n",
    "import sys\n",
    "import concurrent.futures\n",
    "import time\n",
    "\n",
    "from PIL import Image\n",
    "from threading import Thread\n",
    "from multiprocessing.pool import ThreadPool\n",
    "\n",
    "buffer_size = -1"
   ]
  },
  {
   "cell_type": "code",
   "execution_count": 2,
   "metadata": {},
   "outputs": [],
   "source": [
    "def log_progress(sequence, every=None, size=None, name='Items'):\n",
    "    from ipywidgets import IntProgress, HTML, VBox\n",
    "    from IPython.display import display\n",
    "\n",
    "    is_iterator = False\n",
    "    if size is None:\n",
    "        try:\n",
    "            size = len(sequence)\n",
    "        except TypeError:\n",
    "            is_iterator = True\n",
    "    if size is not None:\n",
    "        if every is None:\n",
    "            if size <= 200:\n",
    "                every = 1\n",
    "            else:\n",
    "                every = int(size / 200)     # every 0.5%\n",
    "    else:\n",
    "        assert every is not None, 'sequence is iterator, set every'\n",
    "\n",
    "    if is_iterator:\n",
    "        progress = IntProgress(min=0, max=1, value=1)\n",
    "        progress.bar_style = 'info'\n",
    "    else:\n",
    "        progress = IntProgress(min=0, max=size, value=0)\n",
    "    label = HTML()\n",
    "    box = VBox(children=[label, progress])\n",
    "    display(box)\n",
    "\n",
    "    index = 0\n",
    "    try:\n",
    "        for index, record in enumerate(sequence, 1):\n",
    "            if index == 1 or index % every == 0:\n",
    "                if is_iterator:\n",
    "                    label.value = '{name}: {index} / ?'.format(\n",
    "                        name=name,\n",
    "                        index=index\n",
    "                    )\n",
    "                else:\n",
    "                    progress.value = index\n",
    "                    label.value = u'{name}: {index} / {size}'.format(\n",
    "                        name=name,\n",
    "                        index=index,\n",
    "                        size=size\n",
    "                    )\n",
    "            yield record\n",
    "    except:\n",
    "        progress.bar_style = 'danger'\n",
    "        raise\n",
    "    else:\n",
    "        progress.bar_style = 'success'\n",
    "        progress.value = index\n",
    "        label.value = \"{name}: {index}\".format(\n",
    "            name=name,\n",
    "            index=str(index or '?')\n",
    "        )"
   ]
  },
  {
   "cell_type": "markdown",
   "metadata": {},
   "source": [
    "### This function create an index of data with associate labels"
   ]
  },
  {
   "cell_type": "code",
   "execution_count": 3,
   "metadata": {},
   "outputs": [],
   "source": [
    "def create_index_file(source, labels, dest_data, dest_label, separator=\",\"):\n",
    "    current_filename = ''\n",
    "    dataset_size = 0\n",
    "    file_dataset_image = open(dest_data,'w')\n",
    "    file_dataset_label = open(dest_label,'w')\n",
    "    file_index = -1\n",
    "    for filename in glob.iglob(source, recursive=True):\n",
    "        folder = filename.split('\\\\')[1]\n",
    "        if (current_filename != folder):\n",
    "            current_filename = folder\n",
    "            file_index += 1\n",
    "        file_dataset_image.write(filename + separator)\n",
    "        file_dataset_label.write(str(labels[filename.split('\\\\')[1]]) + separator)\n",
    "        dataset_size += 1\n",
    "    print(\"Create \", dest_data, \" : \", os.path.getsize(dest_data), \" bytes.\")\n",
    "    print(\"Create \", dest_label, \" : \", os.path.getsize(dest_label), \" bytes.\")\n",
    "    file_dataset_image.close()\n",
    "    file_dataset_label.close()\n",
    "    return dataset_size"
   ]
  },
  {
   "cell_type": "markdown",
   "metadata": {},
   "source": [
    "### This function create a shuffle version of index/label file"
   ]
  },
  {
   "cell_type": "code",
   "execution_count": 4,
   "metadata": {},
   "outputs": [],
   "source": [
    "def create_shuffle_index_file(source_data, source_label, dest_data, dest_label, separator=\",\"):\n",
    "    dataset_size = 0\n",
    "    file_dataset_image = open(source_data,'r')\n",
    "    file_dataset_label = open(source_label,'r')\n",
    "    file_dataset_image_shuffle = open(dest_data,'w')\n",
    "    file_dataset_label_shuffle = open(dest_label,'w')\n",
    "\n",
    "    dataset_image_tab = file_dataset_image.read().split(separator)\n",
    "    dataset_image_tab.pop()\n",
    "    dataset_label_tab = file_dataset_label.read().split(separator)\n",
    "    dataset_label_tab.pop()\n",
    "\n",
    "    l = list(zip(dataset_image_tab, dataset_label_tab))\n",
    "    random.shuffle(l)\n",
    "    dataset_image_tab, dataset_label_tab = zip(*l)\n",
    "\n",
    "    for i in range(len(dataset_image_tab)):\n",
    "        file_dataset_image_shuffle.write(dataset_image_tab[i] + separator)\n",
    "        file_dataset_label_shuffle.write(dataset_label_tab[i] + separator)\n",
    "        dataset_size += 1\n",
    "\n",
    "    print(\"Create \", dest_data, \" : \", os.path.getsize(dest_data), \" bytes.\")\n",
    "    print(\"Create \", dest_label, \" : \", os.path.getsize(dest_label), \" bytes.\")\n",
    "    file_dataset_image.close()\n",
    "    file_dataset_label.close()\n",
    "    file_dataset_image_shuffle.close()\n",
    "    file_dataset_label_shuffle.close()\n",
    "    return dataset_size"
   ]
  },
  {
   "cell_type": "markdown",
   "metadata": {},
   "source": [
    "### Get an array of data from index/label file with specified size and offset"
   ]
  },
  {
   "cell_type": "code",
   "execution_count": 5,
   "metadata": {},
   "outputs": [],
   "source": [
    "def get_data_from_index_file(filename, number, offset, separator=\",\"):\n",
    "    file_dataset_image = open(filename,'r')\n",
    "    dataset_image_tab = file_dataset_image.read().split(separator)\n",
    "    dataset_image_tab.pop()\n",
    "    tab = []\n",
    "    if (number == -1):\n",
    "        number = len(dataset_image_tab)\n",
    "    size = offset + number\n",
    "    if (size > len(dataset_image_tab)):\n",
    "        size = len(dataset_image_tab)\n",
    "    for i in range(offset, size):\n",
    "        tab.append(dataset_image_tab[i])\n",
    "    return tab"
   ]
  },
  {
   "cell_type": "markdown",
   "metadata": {},
   "source": [
    "### Write header for binary image dataset"
   ]
  },
  {
   "cell_type": "code",
   "execution_count": 6,
   "metadata": {},
   "outputs": [],
   "source": [
    "def write_header_image(file, nb_images, nb_columns, nb_rows):\n",
    "    h_magic = (2051).to_bytes(4, byteorder='big')\n",
    "    h_nb_images = (nb_images).to_bytes(4, byteorder='big')\n",
    "    h_nb_columns = (nb_columns).to_bytes(4, byteorder='big')\n",
    "    h_nb_rows = (nb_rows).to_bytes(4, byteorder='big')\n",
    "    header = [h_magic, h_nb_images, h_nb_columns, h_nb_rows]\n",
    "    for e in header:\n",
    "        file.write(e)"
   ]
  },
  {
   "cell_type": "markdown",
   "metadata": {},
   "source": [
    "### Write header for binary label dataset"
   ]
  },
  {
   "cell_type": "code",
   "execution_count": 7,
   "metadata": {},
   "outputs": [],
   "source": [
    "def write_header_label(file, nb_labels):\n",
    "    h_magic = (2049).to_bytes(4, byteorder='big')\n",
    "    h_nb_label = (nb_labels).to_bytes(4, byteorder='big')\n",
    "    header = [h_magic, h_nb_label]\n",
    "    for e in header:\n",
    "        file.write(e)"
   ]
  },
  {
   "cell_type": "markdown",
   "metadata": {},
   "source": [
    "### Create binary image dataset from index file"
   ]
  },
  {
   "cell_type": "code",
   "execution_count": 8,
   "metadata": {},
   "outputs": [],
   "source": [
    "def generate_binary_dataset_from_image(path, number, offset=0, file_number=\"\"):\n",
    "    filenames = get_data_from_index_file(path, number, offset)\n",
    "    filename = path.split('.')[0] + file_number + '.ubyte'\n",
    "    out = open(filename,'wb')\n",
    "    init = False\n",
    "    time.sleep(1)\n",
    "    data = []\n",
    "    global buffer_size\n",
    "    buffer_count = 0\n",
    "    for f in log_progress(filenames, every=100):\n",
    "        with Image.open(f, 'r') as image:\n",
    "            width, height = image.size\n",
    "\n",
    "            if (init == False):\n",
    "                write_header_image(out, len(filenames), width, height)\n",
    "                init = True\n",
    "            pixel_values = list(image.getdata())\n",
    "            if image.mode == 'RGB':\n",
    "                if (buffer_size == -1):\n",
    "                    buffer_size = 3 * len(pixel_values)\n",
    "                channels = 3\n",
    "                for p in pixel_values:\n",
    "                    data.append(p[0])\n",
    "                    data.append(p[1])\n",
    "                    data.append(p[2])\n",
    "                    buffer_count += 3\n",
    "            elif image.mode == 'L':\n",
    "                if (buffer_size == -1):\n",
    "                    buffer_size = len(pixel_values)\n",
    "                channels = 1\n",
    "                for p in pixel_values:\n",
    "                    data.append(p[0])\n",
    "                    buffer_count += 1\n",
    "            else:\n",
    "                print(\"Unknown mode: %s\" % image.mode)\n",
    "                return None\n",
    "            \n",
    "            if (buffer_count >= buffer_size):\n",
    "                buffer_count = 0\n",
    "                out.write(bytearray(data))\n",
    "                data = []\n",
    "    if (len(data) != 0):\n",
    "        out.write(bytearray(data))"
   ]
  },
  {
   "cell_type": "markdown",
   "metadata": {},
   "source": [
    "### Create binary label dataset from label file"
   ]
  },
  {
   "cell_type": "code",
   "execution_count": 9,
   "metadata": {},
   "outputs": [],
   "source": [
    "def generate_binary_dataset_from_label(path, number, offset=0, file_number=\"\", label_size=1):\n",
    "    labels = get_data_from_index_file(path, number, offset)\n",
    "    filename = path.split('.')[0] + file_number + '.ubyte'\n",
    "    out = open(filename,'wb')\n",
    "    write_header_label(out, len(labels))\n",
    "    data = []\n",
    "    for l in labels:\n",
    "        data.append((int(l)).to_bytes(label_size, byteorder='big'))\n",
    "    for d in log_progress(data, every=100):\n",
    "        out.write(d)"
   ]
  },
  {
   "cell_type": "markdown",
   "metadata": {},
   "source": [
    "### Generate single binary chunck dataset"
   ]
  },
  {
   "cell_type": "code",
   "execution_count": 10,
   "metadata": {},
   "outputs": [],
   "source": [
    "def generate_single_chunck(path, number, offset, type_file=0, file_number=\"\", label_size=1):\n",
    "    if (type_file == 0):\n",
    "        generate_binary_dataset_from_image(path, number, offset, file_number)\n",
    "    else:\n",
    "        generate_binary_dataset_from_label(path, number, offset, file_number, label_size=1)\n",
    "    pa = path.split('.')[0] + file_number + '.ubyte'\n",
    "\n",
    "def generate_single_chunck_thread(path, number, offset, thread_name, type_file=0, file_number=\"\", label_size=1):\n",
    "    generate_single_chunck(path, number, offset, type_file, file_number, label_size)\n",
    "    pa = path.split('.')[0] + file_number + '.ubyte'\n",
    "    return \"Create file with thread n°\" + str(thread_name) + \" : \" + pa + ' (' + str(os.path.getsize(pa)) + \" bytes).\""
   ]
  },
  {
   "cell_type": "markdown",
   "metadata": {},
   "source": [
    "### Generate binary dataset"
   ]
  },
  {
   "cell_type": "code",
   "execution_count": 11,
   "metadata": {},
   "outputs": [],
   "source": [
    "def generate_chunck_dataset_thread(path, size, nb_thread, max_iteration=-1, type_file=0):\n",
    "    j = 0\n",
    "    s = len(get_data_from_index_file(path, -1, 0))\n",
    "    if (max_iteration == -1):\n",
    "        max_iteration = math.ceil(s / size)\n",
    "    pool = ThreadPool(nb_thread)\n",
    "    for i in range(s - size):\n",
    "        if (j == max_iteration):\n",
    "            break\n",
    "        with concurrent.futures.ThreadPoolExecutor(max_workers=nb_thread) as executor:\n",
    "            # Start the load operations and mark each future with its URL\n",
    "            tasks = {}\n",
    "            for t in range(nb_thread):\n",
    "                print(\"Writing in \" + path.split('.')[0] + \"_\" + str(j) + \".ubyte has started...\")\n",
    "                tasks[executor.submit(generate_single_chunck_thread, path, size, i, t, type_file, \"_\" + str(j))] = t\n",
    "                j += 1\n",
    "                i += size\n",
    "                if (j == max_iteration):\n",
    "                    break\n",
    "            for future in concurrent.futures.as_completed(tasks):\n",
    "                task = tasks[future]\n",
    "                try:\n",
    "                    data = future.result()\n",
    "                except Exception as exc:\n",
    "                    print('%r generated an exception: %s' % (task, exc))\n",
    "                else:\n",
    "                    print(data)\n",
    "        \n",
    "def generate_chunck_dataset(path, size, max_iteration=-1, type_file=0):\n",
    "    j = 0\n",
    "    s = len(get_data_from_index_file(path, -1, 0))\n",
    "    if (max_iteration == -1):\n",
    "        max_iteration = math.ceil(s / size)\n",
    "    for i in range(s - size):\n",
    "        generate_single_chunck(path, size, i, type_file, \"_\" + str(j))\n",
    "        pa = path.split('.')[0] + \"_\" + str(j) + '.ubyte'\n",
    "        j += 1\n",
    "        print(\"Create file (\" + str(j) + \"/\" + str(max_iteration) + \") : \" + pa + ' (', os.path.getsize(pa), \" bytes).\")\n",
    "        print(str(((j) / max_iteration) * 100) + \" %\")\n",
    "        i += size\n",
    "        if (j == max_iteration):\n",
    "            return"
   ]
  },
  {
   "cell_type": "code",
   "execution_count": 12,
   "metadata": {},
   "outputs": [],
   "source": [
    "def generate_dataset(path, number, offset=0, type_file=0):\n",
    "    generate_single_chunck(path, number, offset, type_file)\n",
    "    pa = path.split('.')[0] + '.ubyte'\n",
    "    print(\"Create file : \" + pa + \"(\" + str(os.path.getsize(pa)) + \" bytes).\")"
   ]
  },
  {
   "cell_type": "code",
   "execution_count": 13,
   "metadata": {},
   "outputs": [],
   "source": [
    "def read_number(file, size):\n",
    "    return int.from_bytes(file.read(size), byteorder='big', signed=False)\n",
    "\n",
    "def read_label_data(filename, number_label, offset):\n",
    "    file = open(filename, 'rb')\n",
    "    magix_number = (0x00000801).to_bytes(4, byteorder='big')\n",
    "    read_value = file.read(4)\n",
    "    if (read_value != magix_number):\n",
    "        print(\"This isn't a label file!\")\n",
    "        return 0\n",
    "    number_of_items = read_number(file, 4)\n",
    "    if (offset >= number_of_items):\n",
    "        return [number_of_items, 0]\n",
    "    if (number_label + offset > number_of_items):\n",
    "        number_label = number_of_items - offset\n",
    "    header_size = 8\n",
    "    file.seek(header_size + offset * number_label)\n",
    "    buf = file.read(number_label)\n",
    "    data = np.frombuffer(buf, dtype=np.uint8)\n",
    "    return data\n",
    "\n",
    "def normalise_number(number, minimum, maximum):\n",
    "    return (number - minimum) / (maximum - minimum)\n",
    "\n",
    "def read_image_data(filename, depth, number_images, offset):\n",
    "    file = open(filename, 'rb')\n",
    "    magix_number = (0x00000803).to_bytes(4, byteorder='big')\n",
    "    read_value = file.read(4)\n",
    "    if (read_value != magix_number):\n",
    "        print(\"This isn't an image file!\")\n",
    "        return 0\n",
    "    number_of_items = read_number(file, 4)\n",
    "    number_of_rows = read_number(file, 4)\n",
    "    number_of_columns = read_number(file, 4)\n",
    "    if (offset >= number_of_items):\n",
    "        return [number_of_items, number_of_rows, number_of_columns, 0]\n",
    "    if (number_images + offset > number_of_items):\n",
    "        number_images = number_of_items - offset\n",
    "    image_size = number_of_rows * number_of_columns\n",
    "    header_size = 16\n",
    "    file.seek(header_size + image_size * offset * depth)\n",
    "    buf = file.read(number_images * image_size * depth)\n",
    "    data = np.frombuffer(buf, dtype=np.uint8)\n",
    "    data = data.reshape(number_images, number_of_rows, number_of_columns, depth)\n",
    "    return data"
   ]
  },
  {
   "cell_type": "code",
   "execution_count": 14,
   "metadata": {},
   "outputs": [],
   "source": [
    "def create_dataset_darknet(imgs, labels, anchorsX, anchorY, width, height, separator=','):\n",
    "    file_dataset_image_shuffle = open(imgs,'r')\n",
    "    file_dataset_label_shuffle = open(labels,'r')\n",
    "    \n",
    "    dataset_image_tab = file_dataset_image_shuffle.read().split(separator)\n",
    "    dataset_image_tab.pop()\n",
    "    dataset_label_tab = file_dataset_label_shuffle.read().split(separator)\n",
    "    dataset_label_tab.pop()\n",
    "    \n",
    "    for i in range(len(dataset_image_tab)):\n",
    "        path = os.path.splitext(dataset_image_tab[i])[0] + '.txt'\n",
    "        f = open(path,'w')\n",
    "        line = '{0} {1} {2} {3} {4}'.format(dataset_label_tab[i], anchorsX, anchorY, width, height)\n",
    "        f.write( line ) \n",
    "        f.close()"
   ]
  },
  {
   "cell_type": "code",
   "execution_count": null,
   "metadata": {},
   "outputs": [],
   "source": []
  }
 ],
 "metadata": {
  "kernelspec": {
   "display_name": "Python 3",
   "language": "python",
   "name": "python3"
  },
  "language_info": {
   "codemirror_mode": {
    "name": "ipython",
    "version": 3
   },
   "file_extension": ".py",
   "mimetype": "text/x-python",
   "name": "python",
   "nbconvert_exporter": "python",
   "pygments_lexer": "ipython3",
   "version": "3.5.2"
  }
 },
 "nbformat": 4,
 "nbformat_minor": 2
}
